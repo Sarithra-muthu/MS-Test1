{
    "cells": [
        {
            "cell_type": "markdown",
            "metadata": {
                "collapsed": true
            },
            "source": "# Speech to Text API and language translator"
        },
        {
            "cell_type": "code",
            "execution_count": 1,
            "metadata": {},
            "outputs": [
                {
                    "name": "stdout",
                    "output_type": "stream",
                    "text": "Collecting ibm_watson\n\u001b[?25l  Downloading https://files.pythonhosted.org/packages/dc/da/10f8774b319acdda29885931c01fae862622519bff492957c73b0ba84743/ibm-watson-4.5.0.tar.gz (370kB)\n\u001b[K     |\u2588\u2588\u2588\u2588\u2588\u2588\u2588\u2588\u2588\u2588\u2588\u2588\u2588\u2588\u2588\u2588\u2588\u2588\u2588\u2588\u2588\u2588\u2588\u2588\u2588\u2588\u2588\u2588\u2588\u2588\u2588\u2588| 378kB 7.9MB/s eta 0:00:01\n\u001b[?25hCollecting wget\n  Downloading https://files.pythonhosted.org/packages/47/6a/62e288da7bcda82b935ff0c6cfe542970f04e29c756b0e147251b2fb251f/wget-3.2.zip\nRequirement already satisfied: requests<3.0,>=2.0 in /opt/conda/envs/Python36/lib/python3.6/site-packages (from ibm_watson) (2.21.0)\nRequirement already satisfied: python_dateutil>=2.5.3 in /opt/conda/envs/Python36/lib/python3.6/site-packages (from ibm_watson) (2.7.5)\nCollecting websocket-client==0.48.0 (from ibm_watson)\n\u001b[?25l  Downloading https://files.pythonhosted.org/packages/8a/a1/72ef9aa26cfe1a75cee09fc1957e4723add9de098c15719416a1ee89386b/websocket_client-0.48.0-py2.py3-none-any.whl (198kB)\n\u001b[K     |\u2588\u2588\u2588\u2588\u2588\u2588\u2588\u2588\u2588\u2588\u2588\u2588\u2588\u2588\u2588\u2588\u2588\u2588\u2588\u2588\u2588\u2588\u2588\u2588\u2588\u2588\u2588\u2588\u2588\u2588\u2588\u2588| 204kB 22.3MB/s eta 0:00:01\n\u001b[?25hCollecting ibm_cloud_sdk_core==1.5.1 (from ibm_watson)\n  Downloading https://files.pythonhosted.org/packages/b7/f6/10d5271c807d73d236e6ae07b68035fed78b28b5ab836704d34097af3986/ibm-cloud-sdk-core-1.5.1.tar.gz\nRequirement already satisfied: chardet<3.1.0,>=3.0.2 in /opt/conda/envs/Python36/lib/python3.6/site-packages (from requests<3.0,>=2.0->ibm_watson) (3.0.4)\nRequirement already satisfied: certifi>=2017.4.17 in /opt/conda/envs/Python36/lib/python3.6/site-packages (from requests<3.0,>=2.0->ibm_watson) (2020.6.20)\nRequirement already satisfied: urllib3<1.25,>=1.21.1 in /opt/conda/envs/Python36/lib/python3.6/site-packages (from requests<3.0,>=2.0->ibm_watson) (1.24.1)\nRequirement already satisfied: idna<2.9,>=2.5 in /opt/conda/envs/Python36/lib/python3.6/site-packages (from requests<3.0,>=2.0->ibm_watson) (2.8)\nRequirement already satisfied: six>=1.5 in /opt/conda/envs/Python36/lib/python3.6/site-packages (from python_dateutil>=2.5.3->ibm_watson) (1.12.0)\nCollecting PyJWT>=1.7.1 (from ibm_cloud_sdk_core==1.5.1->ibm_watson)\n  Downloading https://files.pythonhosted.org/packages/87/8b/6a9f14b5f781697e51259d81657e6048fd31a113229cf346880bb7545565/PyJWT-1.7.1-py2.py3-none-any.whl\nBuilding wheels for collected packages: ibm-watson, wget, ibm-cloud-sdk-core\n  Building wheel for ibm-watson (setup.py) ... \u001b[?25ldone\n\u001b[?25h  Stored in directory: /home/dsxuser/.cache/pip/wheels/71/9a/0a/9b3ca8eca69bc5362eb04709a750b30055a9d27818fd0c9494\n  Building wheel for wget (setup.py) ... \u001b[?25ldone\n\u001b[?25h  Stored in directory: /home/dsxuser/.cache/pip/wheels/40/15/30/7d8f7cea2902b4db79e3fea550d7d7b85ecb27ef992b618f3f\n  Building wheel for ibm-cloud-sdk-core (setup.py) ... \u001b[?25ldone\n\u001b[?25h  Stored in directory: /home/dsxuser/.cache/pip/wheels/6a/42/50/f96888116b329578304f9dda4693cef6f3e76e18272d22cb6c\nSuccessfully built ibm-watson wget ibm-cloud-sdk-core\nInstalling collected packages: websocket-client, PyJWT, ibm-cloud-sdk-core, ibm-watson, wget\nSuccessfully installed PyJWT-1.7.1 ibm-cloud-sdk-core-1.5.1 ibm-watson-4.5.0 websocket-client-0.48.0 wget-3.2\n"
                }
            ],
            "source": "#you will need the following library \n!pip install ibm_watson wget"
        },
        {
            "cell_type": "code",
            "execution_count": 23,
            "metadata": {},
            "outputs": [],
            "source": "from ibm_watson import SpeechToTextV1 \nimport json\nfrom ibm_cloud_sdk_core.authenticators import IAMAuthenticator"
        },
        {
            "cell_type": "code",
            "execution_count": 24,
            "metadata": {},
            "outputs": [],
            "source": "url_s2t = \"https://api.eu-gb.speech-to-text.watson.cloud.ibm.com/instances/bc3d8056-1784-4844-80c1-32ba3627151b\""
        },
        {
            "cell_type": "code",
            "execution_count": 25,
            "metadata": {},
            "outputs": [],
            "source": "iam_apikey_s2t = \"yhVS6r2XtrPff2tcJbyWTQleSeiYl9qauO5YVmCEDQfA\""
        },
        {
            "cell_type": "code",
            "execution_count": 26,
            "metadata": {},
            "outputs": [
                {
                    "data": {
                        "text/plain": "<ibm_watson.speech_to_text_v1_adapter.SpeechToTextV1Adapter at 0x7f86b01f5908>"
                    },
                    "execution_count": 26,
                    "metadata": {},
                    "output_type": "execute_result"
                }
            ],
            "source": "authenticator = IAMAuthenticator(iam_apikey_s2t)\ns2t = SpeechToTextV1(authenticator=authenticator)\ns2t.set_service_url(url_s2t)\ns2t"
        },
        {
            "cell_type": "code",
            "execution_count": 27,
            "metadata": {},
            "outputs": [
                {
                    "name": "stdout",
                    "output_type": "stream",
                    "text": "--2020-08-09 09:59:37--  https://s3-api.us-geo.objectstorage.softlayer.net/cf-courses-data/CognitiveClass/PY0101EN/labs/PolynomialRegressionandPipelines.mp3\nResolving s3-api.us-geo.objectstorage.softlayer.net (s3-api.us-geo.objectstorage.softlayer.net)... 67.228.254.196\nConnecting to s3-api.us-geo.objectstorage.softlayer.net (s3-api.us-geo.objectstorage.softlayer.net)|67.228.254.196|:443... connected.\nHTTP request sent, awaiting response... 200 OK\nLength: 4234179 (4.0M) [audio/mpeg]\nSaving to: \u2018PolynomialRegressionandPipelines.mp3\u2019\n\n100%[======================================>] 4,234,179    527KB/s   in 8.1s   \n\n2020-08-09 09:59:45 (508 KB/s) - \u2018PolynomialRegressionandPipelines.mp3\u2019 saved [4234179/4234179]\n\n"
                }
            ],
            "source": "!wget -O PolynomialRegressionandPipelines.mp3  https://s3-api.us-geo.objectstorage.softlayer.net/cf-courses-data/CognitiveClass/PY0101EN/labs/PolynomialRegressionandPipelines.mp3"
        },
        {
            "cell_type": "code",
            "execution_count": 28,
            "metadata": {},
            "outputs": [],
            "source": "filename='PolynomialRegressionandPipelines.mp3'"
        },
        {
            "cell_type": "code",
            "execution_count": 29,
            "metadata": {},
            "outputs": [],
            "source": "with open(filename, mode=\"rb\")  as wav:\n    response = s2t.recognize(audio=wav, content_type='audio/mp3')"
        },
        {
            "cell_type": "code",
            "execution_count": 30,
            "metadata": {},
            "outputs": [
                {
                    "data": {
                        "text/plain": "{'result_index': 0,\n 'results': [{'final': True,\n   'alternatives': [{'transcript': 'in this video we will cover polynomial regression and pipelines ',\n     'confidence': 0.93}]},\n  {'final': True,\n   'alternatives': [{'transcript': \"what do we do when a linear model is not the best fit for our data let's look into another type of regression model the polynomial regression we transform our data into a polynomial then use linear regression to fit the parameters that we will discuss pipelines pipelines are way to simplify your code \",\n     'confidence': 0.9}]},\n  {'final': True,\n   'alternatives': [{'transcript': \"polynomial regression is a special case of the general linear regression this method is beneficial for describing curvilinear relationships what is a curvilinear relationship it's what you get by squaring or setting higher order terms of the predictor variables in the model transforming the data the model can be quadratic which means the predictor variable in the model is squared we use a bracket to indicated as an exponent this is the second order polynomial regression with a figure representing the function \",\n     'confidence': 0.95}]},\n  {'final': True,\n   'alternatives': [{'transcript': 'the model can be cubic which means the predictor variable is cute this is the third order polynomial regression we see by examining the figure that the function has more variation ',\n     'confidence': 0.95}]},\n  {'final': True,\n   'alternatives': [{'transcript': \"there also exists higher order polynomial regressions when a good fit hasn't been achieved by second or third order we can see in figures how much the graphs change when we change the order of the polynomial regression the degree of the regression makes a big difference and can result in a better fit if you pick the right value in all cases the relationship between the variable in the parameter is always linear \",\n     'confidence': 0.91}]},\n  {'final': True,\n   'alternatives': [{'transcript': \"let's look at an example from our data we generate a polynomial regression model \",\n     'confidence': 0.89}]},\n  {'final': True,\n   'alternatives': [{'transcript': 'in python we do this by using the poly fit function in this example we develop a third order polynomial regression model base we can print out the model symbolic form for the model is given by the following expression ',\n     'confidence': 0.92}]},\n  {'final': True,\n   'alternatives': [{'transcript': \"negative one point five five seven X. one cute plus two hundred four point eight X. one squared plus eight thousand nine hundred sixty five X. one plus one point three seven times ten to the power of five we can also have multi dimensional polynomial linear regression the expression can get complicated here are just some of the terms for two dimensional second order polynomial none pies poly fit function cannot perform this type of regression we use the preprocessing librarian scikit learn to create a polynomial feature object the constructor takes the degree of the polynomial as a parameter then we transform the features into a polynomial feature with the fit underscore transform method let's do a more intuitive example \",\n     'confidence': 0.9}]},\n  {'final': True,\n   'alternatives': [{'transcript': 'consider the feature shown here applying the method we transform the data we now have a new set of features that are transformed version of our original features as that I mention of the data gets larger we may want to normalize multiple features as scikit learn instead we can use the preprocessing module to simplify many tasks for example we can standardize each feature simultaneously we import standard scaler we train the object fit the scale object then transform the data into a new data frame on a rate X. underscore scale there are more normalization methods available in the pre processing library as well as other transformations we can simplify our code by using a pipeline library there are many steps to getting a prediction for example normalization polynomial transform and linear regression we simplify the process using a pipeline ',\n     'confidence': 0.9}]},\n  {'final': True,\n   'alternatives': [{'transcript': 'pipeline sequentially perform a series of transformations the last step carries out a prediction first we import all the modules we need then we import the library pipeline we create a list of topples the first element in the topple contains the name of the estimator model the second element contains model constructor we input the list in the pipeline constructor we now have a pipeline object we can train the pipeline by applying the train method to the pipeline object we can also produce a prediction as well ',\n     'confidence': 0.89}]},\n  {'final': True,\n   'alternatives': [{'transcript': 'the method normalizes the data performs a polynomial transform then outputs a prediction ',\n     'confidence': 0.89}]}]}"
                    },
                    "execution_count": 30,
                    "metadata": {},
                    "output_type": "execute_result"
                }
            ],
            "source": "response.result"
        },
        {
            "cell_type": "code",
            "execution_count": 31,
            "metadata": {},
            "outputs": [
                {
                    "data": {
                        "text/html": "<div>\n<style scoped>\n    .dataframe tbody tr th:only-of-type {\n        vertical-align: middle;\n    }\n\n    .dataframe tbody tr th {\n        vertical-align: top;\n    }\n\n    .dataframe thead th {\n        text-align: right;\n    }\n</style>\n<table border=\"1\" class=\"dataframe\">\n  <thead>\n    <tr style=\"text-align: right;\">\n      <th></th>\n      <th>confidence</th>\n      <th>transcript</th>\n    </tr>\n  </thead>\n  <tbody>\n    <tr>\n      <th>0</th>\n      <td>0.93</td>\n      <td>in this video we will cover polynomial regress...</td>\n    </tr>\n    <tr>\n      <th>1</th>\n      <td>0.90</td>\n      <td>what do we do when a linear model is not the b...</td>\n    </tr>\n    <tr>\n      <th>2</th>\n      <td>0.95</td>\n      <td>polynomial regression is a special case of the...</td>\n    </tr>\n    <tr>\n      <th>3</th>\n      <td>0.95</td>\n      <td>the model can be cubic which means the predict...</td>\n    </tr>\n    <tr>\n      <th>4</th>\n      <td>0.91</td>\n      <td>there also exists higher order polynomial regr...</td>\n    </tr>\n    <tr>\n      <th>5</th>\n      <td>0.89</td>\n      <td>let's look at an example from our data we gene...</td>\n    </tr>\n    <tr>\n      <th>6</th>\n      <td>0.92</td>\n      <td>in python we do this by using the poly fit fun...</td>\n    </tr>\n    <tr>\n      <th>7</th>\n      <td>0.90</td>\n      <td>negative one point five five seven X. one cute...</td>\n    </tr>\n    <tr>\n      <th>8</th>\n      <td>0.90</td>\n      <td>consider the feature shown here applying the m...</td>\n    </tr>\n    <tr>\n      <th>9</th>\n      <td>0.89</td>\n      <td>pipeline sequentially perform a series of tran...</td>\n    </tr>\n    <tr>\n      <th>10</th>\n      <td>0.89</td>\n      <td>the method normalizes the data performs a poly...</td>\n    </tr>\n  </tbody>\n</table>\n</div>",
                        "text/plain": "    confidence                                         transcript\n0         0.93  in this video we will cover polynomial regress...\n1         0.90  what do we do when a linear model is not the b...\n2         0.95  polynomial regression is a special case of the...\n3         0.95  the model can be cubic which means the predict...\n4         0.91  there also exists higher order polynomial regr...\n5         0.89  let's look at an example from our data we gene...\n6         0.92  in python we do this by using the poly fit fun...\n7         0.90  negative one point five five seven X. one cute...\n8         0.90  consider the feature shown here applying the m...\n9         0.89  pipeline sequentially perform a series of tran...\n10        0.89  the method normalizes the data performs a poly..."
                    },
                    "execution_count": 31,
                    "metadata": {},
                    "output_type": "execute_result"
                }
            ],
            "source": "from pandas.io.json import json_normalize\n\njson_normalize(response.result['results'],\"alternatives\")"
        },
        {
            "cell_type": "code",
            "execution_count": 32,
            "metadata": {},
            "outputs": [
                {
                    "data": {
                        "text/plain": "<ibm_cloud_sdk_core.detailed_response.DetailedResponse at 0x7f86b01eadd8>"
                    },
                    "execution_count": 32,
                    "metadata": {},
                    "output_type": "execute_result"
                }
            ],
            "source": "response"
        },
        {
            "cell_type": "code",
            "execution_count": 33,
            "metadata": {},
            "outputs": [
                {
                    "data": {
                        "text/plain": "str"
                    },
                    "execution_count": 33,
                    "metadata": {},
                    "output_type": "execute_result"
                }
            ],
            "source": "recognized_text=response.result['results'][0][\"alternatives\"][0][\"transcript\"]\ntype(recognized_text)"
        },
        {
            "cell_type": "markdown",
            "metadata": {},
            "source": "# Language Translator"
        },
        {
            "cell_type": "code",
            "execution_count": 34,
            "metadata": {},
            "outputs": [],
            "source": "from ibm_watson import LanguageTranslatorV3"
        },
        {
            "cell_type": "code",
            "execution_count": 35,
            "metadata": {},
            "outputs": [],
            "source": "url_lt='https://api.eu-gb.language-translator.watson.cloud.ibm.com/instances/4339f1e4-9d6b-48df-8403-6fdd770f34e4'"
        },
        {
            "cell_type": "code",
            "execution_count": 36,
            "metadata": {},
            "outputs": [],
            "source": "apikey_lt='u-jsmKSYA2GRzX9VteDTCbP6Q-SoWb1IZBifB0HK_FSC'"
        },
        {
            "cell_type": "code",
            "execution_count": 37,
            "metadata": {},
            "outputs": [],
            "source": "version_lt='2018-05-01'"
        },
        {
            "cell_type": "code",
            "execution_count": 38,
            "metadata": {},
            "outputs": [
                {
                    "data": {
                        "text/plain": "<ibm_watson.language_translator_v3.LanguageTranslatorV3 at 0x7f86b01fbc88>"
                    },
                    "execution_count": 38,
                    "metadata": {},
                    "output_type": "execute_result"
                }
            ],
            "source": "authenticator = IAMAuthenticator(apikey_lt)\nlanguage_translator = LanguageTranslatorV3(version=version_lt,authenticator=authenticator)\nlanguage_translator.set_service_url(url_lt)\nlanguage_translator"
        },
        {
            "cell_type": "code",
            "execution_count": 39,
            "metadata": {},
            "outputs": [
                {
                    "data": {
                        "text/html": "<div>\n<style scoped>\n    .dataframe tbody tr th:only-of-type {\n        vertical-align: middle;\n    }\n\n    .dataframe tbody tr th {\n        vertical-align: top;\n    }\n\n    .dataframe thead th {\n        text-align: right;\n    }\n</style>\n<table border=\"1\" class=\"dataframe\">\n  <thead>\n    <tr style=\"text-align: right;\">\n      <th></th>\n      <th>language</th>\n      <th>name</th>\n    </tr>\n  </thead>\n  <tbody>\n    <tr>\n      <th>0</th>\n      <td>af</td>\n      <td>Afrikaans</td>\n    </tr>\n    <tr>\n      <th>1</th>\n      <td>ar</td>\n      <td>Arabic</td>\n    </tr>\n    <tr>\n      <th>2</th>\n      <td>az</td>\n      <td>Azerbaijani</td>\n    </tr>\n    <tr>\n      <th>3</th>\n      <td>ba</td>\n      <td>Bashkir</td>\n    </tr>\n    <tr>\n      <th>4</th>\n      <td>be</td>\n      <td>Belarusian</td>\n    </tr>\n    <tr>\n      <th>5</th>\n      <td>bg</td>\n      <td>Bulgarian</td>\n    </tr>\n    <tr>\n      <th>6</th>\n      <td>bn</td>\n      <td>Bengali</td>\n    </tr>\n    <tr>\n      <th>7</th>\n      <td>ca</td>\n      <td>Catalan</td>\n    </tr>\n    <tr>\n      <th>8</th>\n      <td>cs</td>\n      <td>Czech</td>\n    </tr>\n    <tr>\n      <th>9</th>\n      <td>cv</td>\n      <td>Chuvash</td>\n    </tr>\n    <tr>\n      <th>10</th>\n      <td>cy</td>\n      <td>Welsh</td>\n    </tr>\n    <tr>\n      <th>11</th>\n      <td>da</td>\n      <td>Danish</td>\n    </tr>\n    <tr>\n      <th>12</th>\n      <td>de</td>\n      <td>German</td>\n    </tr>\n    <tr>\n      <th>13</th>\n      <td>el</td>\n      <td>Greek</td>\n    </tr>\n    <tr>\n      <th>14</th>\n      <td>en</td>\n      <td>English</td>\n    </tr>\n    <tr>\n      <th>15</th>\n      <td>eo</td>\n      <td>Esperanto</td>\n    </tr>\n    <tr>\n      <th>16</th>\n      <td>es</td>\n      <td>Spanish</td>\n    </tr>\n    <tr>\n      <th>17</th>\n      <td>et</td>\n      <td>Estonian</td>\n    </tr>\n    <tr>\n      <th>18</th>\n      <td>eu</td>\n      <td>Basque</td>\n    </tr>\n    <tr>\n      <th>19</th>\n      <td>fa</td>\n      <td>Persian</td>\n    </tr>\n    <tr>\n      <th>20</th>\n      <td>fi</td>\n      <td>Finnish</td>\n    </tr>\n    <tr>\n      <th>21</th>\n      <td>fr</td>\n      <td>French</td>\n    </tr>\n    <tr>\n      <th>22</th>\n      <td>ga</td>\n      <td>Irish</td>\n    </tr>\n    <tr>\n      <th>23</th>\n      <td>gu</td>\n      <td>Gujarati</td>\n    </tr>\n    <tr>\n      <th>24</th>\n      <td>he</td>\n      <td>Hebrew</td>\n    </tr>\n    <tr>\n      <th>25</th>\n      <td>hi</td>\n      <td>Hindi</td>\n    </tr>\n    <tr>\n      <th>26</th>\n      <td>hr</td>\n      <td>Croatian</td>\n    </tr>\n    <tr>\n      <th>27</th>\n      <td>ht</td>\n      <td>Haitian</td>\n    </tr>\n    <tr>\n      <th>28</th>\n      <td>hu</td>\n      <td>Hungarian</td>\n    </tr>\n    <tr>\n      <th>29</th>\n      <td>hy</td>\n      <td>Armenian</td>\n    </tr>\n    <tr>\n      <th>...</th>\n      <td>...</td>\n      <td>...</td>\n    </tr>\n    <tr>\n      <th>46</th>\n      <td>mt</td>\n      <td>Maltese</td>\n    </tr>\n    <tr>\n      <th>47</th>\n      <td>my</td>\n      <td>Burmese</td>\n    </tr>\n    <tr>\n      <th>48</th>\n      <td>nb</td>\n      <td>Norwegian Bokmal</td>\n    </tr>\n    <tr>\n      <th>49</th>\n      <td>ne</td>\n      <td>Nepali</td>\n    </tr>\n    <tr>\n      <th>50</th>\n      <td>nl</td>\n      <td>Dutch</td>\n    </tr>\n    <tr>\n      <th>51</th>\n      <td>nn</td>\n      <td>Norwegian Nynorsk</td>\n    </tr>\n    <tr>\n      <th>52</th>\n      <td>pa</td>\n      <td>Punjabi</td>\n    </tr>\n    <tr>\n      <th>53</th>\n      <td>pa-PK</td>\n      <td>Punjabi (Shahmukhi script, Pakistan)</td>\n    </tr>\n    <tr>\n      <th>54</th>\n      <td>pl</td>\n      <td>Polish</td>\n    </tr>\n    <tr>\n      <th>55</th>\n      <td>ps</td>\n      <td>Pushto</td>\n    </tr>\n    <tr>\n      <th>56</th>\n      <td>pt</td>\n      <td>Portuguese</td>\n    </tr>\n    <tr>\n      <th>57</th>\n      <td>ro</td>\n      <td>Romanian</td>\n    </tr>\n    <tr>\n      <th>58</th>\n      <td>ru</td>\n      <td>Russian</td>\n    </tr>\n    <tr>\n      <th>59</th>\n      <td>si</td>\n      <td>Sinhala</td>\n    </tr>\n    <tr>\n      <th>60</th>\n      <td>sk</td>\n      <td>Slovakian</td>\n    </tr>\n    <tr>\n      <th>61</th>\n      <td>sl</td>\n      <td>Slovenian</td>\n    </tr>\n    <tr>\n      <th>62</th>\n      <td>so</td>\n      <td>Somali</td>\n    </tr>\n    <tr>\n      <th>63</th>\n      <td>sq</td>\n      <td>Albanian</td>\n    </tr>\n    <tr>\n      <th>64</th>\n      <td>sr</td>\n      <td>Serbian</td>\n    </tr>\n    <tr>\n      <th>65</th>\n      <td>sv</td>\n      <td>Swedish</td>\n    </tr>\n    <tr>\n      <th>66</th>\n      <td>ta</td>\n      <td>Tamil</td>\n    </tr>\n    <tr>\n      <th>67</th>\n      <td>te</td>\n      <td>Telugu</td>\n    </tr>\n    <tr>\n      <th>68</th>\n      <td>th</td>\n      <td>Thai</td>\n    </tr>\n    <tr>\n      <th>69</th>\n      <td>tl</td>\n      <td>Tagalog</td>\n    </tr>\n    <tr>\n      <th>70</th>\n      <td>tr</td>\n      <td>Turkish</td>\n    </tr>\n    <tr>\n      <th>71</th>\n      <td>uk</td>\n      <td>Ukrainian</td>\n    </tr>\n    <tr>\n      <th>72</th>\n      <td>ur</td>\n      <td>Urdu</td>\n    </tr>\n    <tr>\n      <th>73</th>\n      <td>vi</td>\n      <td>Vietnamese</td>\n    </tr>\n    <tr>\n      <th>74</th>\n      <td>zh</td>\n      <td>Simplified Chinese</td>\n    </tr>\n    <tr>\n      <th>75</th>\n      <td>zh-TW</td>\n      <td>Traditional Chinese</td>\n    </tr>\n  </tbody>\n</table>\n<p>76 rows \u00d7 2 columns</p>\n</div>",
                        "text/plain": "   language                                  name\n0        af                             Afrikaans\n1        ar                                Arabic\n2        az                           Azerbaijani\n3        ba                               Bashkir\n4        be                            Belarusian\n5        bg                             Bulgarian\n6        bn                               Bengali\n7        ca                               Catalan\n8        cs                                 Czech\n9        cv                               Chuvash\n10       cy                                 Welsh\n11       da                                Danish\n12       de                                German\n13       el                                 Greek\n14       en                               English\n15       eo                             Esperanto\n16       es                               Spanish\n17       et                              Estonian\n18       eu                                Basque\n19       fa                               Persian\n20       fi                               Finnish\n21       fr                                French\n22       ga                                 Irish\n23       gu                              Gujarati\n24       he                                Hebrew\n25       hi                                 Hindi\n26       hr                              Croatian\n27       ht                               Haitian\n28       hu                             Hungarian\n29       hy                              Armenian\n..      ...                                   ...\n46       mt                               Maltese\n47       my                               Burmese\n48       nb                      Norwegian Bokmal\n49       ne                                Nepali\n50       nl                                 Dutch\n51       nn                     Norwegian Nynorsk\n52       pa                               Punjabi\n53    pa-PK  Punjabi (Shahmukhi script, Pakistan)\n54       pl                                Polish\n55       ps                                Pushto\n56       pt                            Portuguese\n57       ro                              Romanian\n58       ru                               Russian\n59       si                               Sinhala\n60       sk                             Slovakian\n61       sl                             Slovenian\n62       so                                Somali\n63       sq                              Albanian\n64       sr                               Serbian\n65       sv                               Swedish\n66       ta                                 Tamil\n67       te                                Telugu\n68       th                                  Thai\n69       tl                               Tagalog\n70       tr                               Turkish\n71       uk                             Ukrainian\n72       ur                                  Urdu\n73       vi                            Vietnamese\n74       zh                    Simplified Chinese\n75    zh-TW                   Traditional Chinese\n\n[76 rows x 2 columns]"
                    },
                    "execution_count": 39,
                    "metadata": {},
                    "output_type": "execute_result"
                }
            ],
            "source": "from pandas.io.json import json_normalize\n\njson_normalize(language_translator.list_identifiable_languages().get_result(), \"languages\")"
        },
        {
            "cell_type": "code",
            "execution_count": 40,
            "metadata": {},
            "outputs": [
                {
                    "data": {
                        "text/plain": "<ibm_cloud_sdk_core.detailed_response.DetailedResponse at 0x7f86b01eaba8>"
                    },
                    "execution_count": 40,
                    "metadata": {},
                    "output_type": "execute_result"
                }
            ],
            "source": "translation_response = language_translator.translate(\\\n    text=recognized_text, model_id='en-ta')\ntranslation_response"
        },
        {
            "cell_type": "code",
            "execution_count": 41,
            "metadata": {},
            "outputs": [
                {
                    "data": {
                        "text/plain": "{'translations': [{'translation': '\u0b87\u0ba8\u0bcd\u0ba4 \u0bb5\u0bc0\u0b9f\u0bbf\u0baf\u0bcb\u0bb5\u0bbf\u0bb2\u0bcd \u0ba8\u0bbe\u0bae\u0bcd \u0baa\u0bcb\u0bb2\u0bbf\u0baf\u0bcb\u0bae\u0bbf\u0baf\u0bbf\u0baf\u0bb2\u0bcd \u0bb0\u0bc0\u0ba4\u0bbf\u0baf\u0bbe\u0ba9 \u0bae\u0bb1\u0bcd\u0bb1\u0bc1\u0bae\u0bcd \u0baa\u0bc8\u0baa\u0bbf\u0bb3\u0bc0\u0ba9\u0bcd\u0b95\u0bb3\u0bc8 \u0bae\u0bb1\u0bc8\u0b95\u0bcd\u0b95\u0bc1\u0bae\u0bcd. '}],\n 'word_count': 11,\n 'character_count': 64}"
                    },
                    "execution_count": 41,
                    "metadata": {},
                    "output_type": "execute_result"
                }
            ],
            "source": "translation=translation_response.get_result()\ntranslation"
        },
        {
            "cell_type": "code",
            "execution_count": 42,
            "metadata": {},
            "outputs": [
                {
                    "data": {
                        "text/plain": "'\u0b87\u0ba8\u0bcd\u0ba4 \u0bb5\u0bc0\u0b9f\u0bbf\u0baf\u0bcb\u0bb5\u0bbf\u0bb2\u0bcd \u0ba8\u0bbe\u0bae\u0bcd \u0baa\u0bcb\u0bb2\u0bbf\u0baf\u0bcb\u0bae\u0bbf\u0baf\u0bbf\u0baf\u0bb2\u0bcd \u0bb0\u0bc0\u0ba4\u0bbf\u0baf\u0bbe\u0ba9 \u0bae\u0bb1\u0bcd\u0bb1\u0bc1\u0bae\u0bcd \u0baa\u0bc8\u0baa\u0bbf\u0bb3\u0bc0\u0ba9\u0bcd\u0b95\u0bb3\u0bc8 \u0bae\u0bb1\u0bc8\u0b95\u0bcd\u0b95\u0bc1\u0bae\u0bcd. '"
                    },
                    "execution_count": 42,
                    "metadata": {},
                    "output_type": "execute_result"
                }
            ],
            "source": "Tamil_translation =translation['translations'][0]['translation']\nTamil_translation"
        },
        {
            "cell_type": "code",
            "execution_count": 43,
            "metadata": {},
            "outputs": [],
            "source": "translation_new = language_translator.translate(text=Tamil_translation ,model_id='ta-en').get_result()"
        },
        {
            "cell_type": "code",
            "execution_count": 44,
            "metadata": {},
            "outputs": [
                {
                    "data": {
                        "text/plain": "'In this video we will cover the polosomical and bibliogion. '"
                    },
                    "execution_count": 44,
                    "metadata": {},
                    "output_type": "execute_result"
                }
            ],
            "source": "translation_eng=translation_new['translations'][0]['translation']\ntranslation_eng"
        },
        {
            "cell_type": "code",
            "execution_count": 45,
            "metadata": {},
            "outputs": [],
            "source": "Thai_translation=language_translator.translate(\n    text=translation_eng , model_id='en-th').get_result()"
        },
        {
            "cell_type": "code",
            "execution_count": 46,
            "metadata": {},
            "outputs": [
                {
                    "data": {
                        "text/plain": "'\u0e43\u0e19\u0e27\u0e34\u0e14\u0e35\u0e42\u0e2d\u0e19\u0e35\u0e49\u0e40\u0e23\u0e32\u0e08\u0e30\u0e04\u0e23\u0e2d\u0e1a\u0e04\u0e25\u0e38\u0e21\u0e16\u0e36\u0e07\u0e2a\u0e48\u0e27\u0e19\u0e02\u0e2d\u0e07\u0e01\u0e23\u0e30\u0e14\u0e39\u0e01\u0e41\u0e25\u0e30\u0e01\u0e32\u0e23\u0e41\u0e1e\u0e23\u0e48\u0e01\u0e23\u0e30\u0e08\u0e32\u0e22(Bibliogion '"
                    },
                    "execution_count": 46,
                    "metadata": {},
                    "output_type": "execute_result"
                }
            ],
            "source": "Thai_translation['translations'][0]['translation']"
        },
        {
            "cell_type": "code",
            "execution_count": null,
            "metadata": {},
            "outputs": [],
            "source": ""
        }
    ],
    "metadata": {
        "kernelspec": {
            "display_name": "Python 3.6",
            "language": "python",
            "name": "python3"
        },
        "language_info": {
            "codemirror_mode": {
                "name": "ipython",
                "version": 3
            },
            "file_extension": ".py",
            "mimetype": "text/x-python",
            "name": "python",
            "nbconvert_exporter": "python",
            "pygments_lexer": "ipython3",
            "version": "3.6.9"
        }
    },
    "nbformat": 4,
    "nbformat_minor": 1
}