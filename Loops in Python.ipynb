{
    "cells": [
        {
            "cell_type": "markdown",
            "metadata": {
                "collapsed": true
            },
            "source": "# Loops in Python"
        },
        {
            "cell_type": "code",
            "execution_count": 3,
            "metadata": {},
            "outputs": [
                {
                    "name": "stdout",
                    "output_type": "stream",
                    "text": "1967\n1945\n1924\n"
                }
            ],
            "source": "dates = (1967,1945,1924)\nN = len(dates)\n\nfor i in range(N):\n    print(dates[i])\n \n"
        },
        {
            "cell_type": "code",
            "execution_count": 4,
            "metadata": {},
            "outputs": [
                {
                    "name": "stdout",
                    "output_type": "stream",
                    "text": "0\n1\n2\n3\n4\n5\n6\n7\n"
                }
            ],
            "source": "for i in range(0,8):\n    print(i)"
        },
        {
            "cell_type": "code",
            "execution_count": 6,
            "metadata": {},
            "outputs": [
                {
                    "name": "stdout",
                    "output_type": "stream",
                    "text": "1967\n1945\n1924\n"
                }
            ],
            "source": "for years in dates:\n    print(years)"
        },
        {
            "cell_type": "code",
            "execution_count": 8,
            "metadata": {},
            "outputs": [
                {
                    "name": "stdout",
                    "output_type": "stream",
                    "text": "Before square  0 is red\nAfter square  0 is weight\nBefore square  1 is yellow\nAfter square  1 is weight\nBefore square  2 is green\nAfter square  2 is weight\nBefore square  3 is purple\nAfter square  3 is weight\nBefore square  4 is blue\nAfter square  4 is weight\n"
                }
            ],
            "source": "# Use for loop to change the elements in list\n\nsquares = ['red', 'yellow', 'green', 'purple', 'blue']\n\nfor i in range(0, 5):\n    print(\"Before square \", i, 'is',  squares[i])\n    squares[i] = 'weight'\n    print(\"After square \", i, 'is',  squares[i])"
        },
        {
            "cell_type": "code",
            "execution_count": 11,
            "metadata": {},
            "outputs": [
                {
                    "name": "stdout",
                    "output_type": "stream",
                    "text": "0 red\n1 yellow\n2 green\n3 purple\n4 blue\n"
                }
            ],
            "source": "# Loop through the list and iterate on both index and element value\nsquares=['red', 'yellow', 'green', 'purple', 'blue']\nfor i, square in enumerate(squares):\n    print(i,square)"
        },
        {
            "cell_type": "markdown",
            "metadata": {},
            "source": "# while loop"
        },
        {
            "cell_type": "code",
            "execution_count": 18,
            "metadata": {},
            "outputs": [
                {
                    "name": "stdout",
                    "output_type": "stream",
                    "text": "1973\n3 no of times to get out of loop\n"
                }
            ],
            "source": "# While Loop Example\n\ndates = [1982, 1980, 1973, 2000]\n\ni = 0\nyear = 0\n\nwhile(year != 1973):\n    year = dates[i]\n    i = i+1\nprint(year)\nprint(i, \"no of times to get out of loop\")\n\n"
        },
        {
            "cell_type": "code",
            "execution_count": 2,
            "metadata": {},
            "outputs": [
                {
                    "name": "stdout",
                    "output_type": "stream",
                    "text": "-5\n-4\n-3\n-2\n-1\n0\n1\n2\n3\n4\n5\n"
                }
            ],
            "source": "#Write a for loop the prints out all the element between -5 and 5 using the range function.\nfor i in range(-5,6):\n print(i)"
        },
        {
            "cell_type": "code",
            "execution_count": 3,
            "metadata": {},
            "outputs": [
                {
                    "name": "stdout",
                    "output_type": "stream",
                    "text": "rock\nR&B\nSoundtrack\nR&B\nsoul\npop\n"
                }
            ],
            "source": "# Write your code below and press Shift+Enter to execute\nGenres=[ 'rock', 'R&B', 'Soundtrack', 'R&B', 'soul', 'pop']\nL = len(Genres)\n\nfor i in range(L):\n    print(Genres[i])\n    "
        },
        {
            "cell_type": "code",
            "execution_count": 4,
            "metadata": {},
            "outputs": [
                {
                    "name": "stdout",
                    "output_type": "stream",
                    "text": "rock\nR&B\nSoundtrack\nR&B\nsoul\npop\n"
                }
            ],
            "source": "#the above can also be writtern as\nGenres = ['rock', 'R&B', 'Soundtrack', 'R&B', 'soul', 'pop']\nfor Genre in Genres:\n    print(Genre)"
        },
        {
            "cell_type": "code",
            "execution_count": 5,
            "metadata": {},
            "outputs": [
                {
                    "name": "stdout",
                    "output_type": "stream",
                    "text": "10\n9.5\n10\n8\n7.5\n"
                }
            ],
            "source": "PlayListRatings = [10, 9.5, 10, 8, 7.5, 5, 10, 10]\ni = 1\nRating = PlayListRatings[0]\nwhile(Rating >= 6):\n    print(Rating)\n    Rating = PlayListRatings[i]\n    i = i + 1"
        },
        {
            "cell_type": "code",
            "execution_count": 10,
            "metadata": {},
            "outputs": [
                {
                    "name": "stdout",
                    "output_type": "stream",
                    "text": "10\n9.5\n10\n8\n7.5\n"
                }
            ],
            "source": "PlayListRatings = [10, 9.5, 10, 8, 7.5, 5, 10, 10]\ni = 1\nscore = PlayListRatings[0]\nwhile (score>=6): \n    print(score)\n    score = PlayListRatings[i]\n    i = i+1"
        },
        {
            "cell_type": "code",
            "execution_count": null,
            "metadata": {},
            "outputs": [],
            "source": ""
        }
    ],
    "metadata": {
        "kernelspec": {
            "display_name": "Python 3.6",
            "language": "python",
            "name": "python3"
        },
        "language_info": {
            "codemirror_mode": {
                "name": "ipython",
                "version": 3
            },
            "file_extension": ".py",
            "mimetype": "text/x-python",
            "name": "python",
            "nbconvert_exporter": "python",
            "pygments_lexer": "ipython3",
            "version": "3.6.9"
        }
    },
    "nbformat": 4,
    "nbformat_minor": 1
}